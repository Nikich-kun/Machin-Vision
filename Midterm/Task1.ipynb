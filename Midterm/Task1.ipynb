{
 "cells": [
  {
   "cell_type": "code",
   "execution_count": null,
   "metadata": {},
   "outputs": [],
   "source": [
    "from scipy import ndimage\n",
    "import numpy as np\n",
    "import matplotlib.image as img\n",
    "import matplotlib.pyplot as plt\n",
    "from skimage import color\n",
    "from skimage import io\n",
    "from skimage import util\n",
    "\n",
    "import matplotlib.image as pltimg\n",
    "zelda =  io.imread('anime-volchica-i-pryanosti-2102.jpg', as_grey=True)\n",
    "zelda = util.random_noise(zelda, mode='s&p', seed=None, clip=True)\n",
    "\n",
    "fig = plt.figure(figsize=(35,35))\n",
    "plt.subplot(711)\n",
    "plt.title('Original')\n",
    "plt.imshow(zelda,cmap='gray')\n",
    "\n",
    "#Filtr_А\n",
    "# corresponds to a low-pass filter in the frequency domain\n",
    "k = np.array([[1.*1/16,2.*1/16,1.*1/16],[2.*1/16,4.*1/16,2.*1/16],[1.*1/16,2.*1/16,1.*1/16]])\n",
    "flt_1 = ndimage.convolve(zelda, k, mode='nearest', cval=0.0)\n",
    "\n",
    "plt.subplot(712)\n",
    "plt.title('Фильтр А')\n",
    "plt.imshow(flt_1,cmap='gray')\n",
    "\n",
    "#Filtr_Б\n",
    "#corresponds to a low-pass filter in the frequency domain\n",
    "k = np.array([[0.*1/5,1.*1/5,0.*1/5],[1.*1/5,1.*1/5,1.*1/5],[0.*1/5,1.*1/5,0.*1/5]])\n",
    "flt_2 = ndimage.convolve(zelda, k, mode='nearest', cval=0.0)\n",
    "\n",
    "plt.subplot(713)\n",
    "plt.title('Фильтр Б')\n",
    "plt.imshow(flt_2,cmap='gray')\n",
    "\n",
    "#Filtr_В\n",
    "#corresponds to a low-pass filter in the frequency domain\n",
    "#works slower than the other specified noise-canceling filters\n",
    "k = np.array([[-1.,-2.,-1.],[-2.,12.,-2.],[-1.,-2.,-1.]])\n",
    "flt_4 = ndimage.convolve(zelda, k, mode='nearest', cval=0.0)\n",
    "\n",
    "plt.subplot(714)\n",
    "plt.title('Фильтр В')\n",
    "plt.imshow(flt_4,cmap='gray')\n",
    "\n",
    "\n",
    "#Filtr_Г\n",
    "#corresponds to a low-pass filter in the frequency domain\n",
    "#will destroy all lines of one pixel thickness in the image\n",
    "k = np.array([[-1.,-2.,-1.],[0.,0.,0.],[1.,2.,1.]])\n",
    "flt_5 = ndimage.convolve(zelda, k, mode='nearest', cval=0.0)\n",
    "\n",
    "plt.subplot(715)\n",
    "plt.title('Фильтр Г')\n",
    "plt.imshow(flt_5,cmap='gray')\n",
    "\n",
    "#Filtr_Д\n",
    "#corresponds to a low-pass filter in the frequency domain\n",
    "flt_6 = ndimage.median_filter(zelda, 3)\n",
    "\n",
    "plt.subplot(716)\n",
    "plt.title('Фильтр Д')\n",
    "plt.imshow(flt_6,cmap='gray')\n",
    "\n",
    "\n",
    "\n",
    "plt.show()"
   ]
  },
  {
   "cell_type": "code",
   "execution_count": null,
   "metadata": {
    "collapsed": true
   },
   "outputs": [],
   "source": []
  },
  {
   "cell_type": "code",
   "execution_count": null,
   "metadata": {
    "collapsed": true
   },
   "outputs": [],
   "source": []
  }
 ],
 "metadata": {
  "kernelspec": {
   "display_name": "Python 3",
   "language": "python",
   "name": "python3"
  },
  "language_info": {
   "codemirror_mode": {
    "name": "ipython",
    "version": 3
   },
   "file_extension": ".py",
   "mimetype": "text/x-python",
   "name": "python",
   "nbconvert_exporter": "python",
   "pygments_lexer": "ipython3",
   "version": "3.6.2"
  }
 },
 "nbformat": 4,
 "nbformat_minor": 2
}
